{
 "metadata": {
  "name": ""
 },
 "nbformat": 3,
 "nbformat_minor": 0,
 "worksheets": [
  {
   "cells": [
    {
     "cell_type": "code",
     "collapsed": false,
     "input": [
      "import graphistry\n",
      "import pandas\n",
      "\n",
      "links = pandas.read_csv('method_sims_graphistry_pt8.csv',encoding='utf-8')\n",
      "\n",
      "api_key = open(\".secret\",\"r\").readlines()[0].strip(\"\\n\")\n",
      "\n",
      "graphistry.register(key=api_key)\n",
      "\n",
      "plotter = graphistry.bind(source=\"source\", destination=\"target\")\n",
      "plotter.plot(links)"
     ],
     "language": "python",
     "metadata": {},
     "outputs": [
      {
       "output_type": "stream",
       "stream": "stderr",
       "text": [
        "WARNING: Could not contact labs.graphistry.com. Are you connected to the Internet?\n"
       ]
      },
      {
       "html": [
        "\n",
        "            <iframe id=\"9788879d-3908-40b0-b03a-4d87ed69fc47\" src=\"https://labs.graphistry.com/graph/graph.html?dataset=PyGraphistry/WVVV9SXTAS&type=vgraph&viztoken=2f7e6fb4440069813acdd10d8bc79ac4156fee00&usertag=72805b68-pygraphistry-0.9.27&splashAfter=1461921457&info=true\"\n",
        "                    allowfullscreen=\"true\" webkitallowfullscreen=\"true\" mozallowfullscreen=\"true\"\n",
        "                    oallowfullscreen=\"true\" msallowfullscreen=\"true\"\n",
        "                    style=\"width:100%; height:500px; border: 1px solid #DDD\">\n",
        "            </iframe>\n",
        "        \n",
        "            <script>\n",
        "                $(\"#9788879d-3908-40b0-b03a-4d87ed69fc47\").bind('mousewheel', function(e) {\n",
        "                e.preventDefault();\n",
        "                });\n",
        "            </script>\n",
        "        "
       ],
       "metadata": {},
       "output_type": "pyout",
       "prompt_number": 10,
       "text": [
        "<IPython.core.display.HTML at 0x7ff08d7a9dd0>"
       ]
      }
     ],
     "prompt_number": 10
    },
    {
     "cell_type": "code",
     "collapsed": false,
     "input": [
      "links = pandas.read_csv('method_sims_graphistry_pt9.csv',encoding='utf-8')\n",
      "\n",
      "plotter = graphistry.bind(source=\"source\", destination=\"target\")\n",
      "plotter.plot(links)"
     ],
     "language": "python",
     "metadata": {},
     "outputs": [
      {
       "html": [
        "\n",
        "            <iframe id=\"d4dacd34-46e8-43db-8249-5782121b9109\" src=\"https://labs.graphistry.com/graph/graph.html?dataset=PyGraphistry/RKRIEGOLNR&type=vgraph&viztoken=acabb667a7d268b52caf34c67f1c86de6177f5d6&usertag=72805b68-pygraphistry-0.9.27&splashAfter=1461961699&info=true\"\n",
        "                    allowfullscreen=\"true\" webkitallowfullscreen=\"true\" mozallowfullscreen=\"true\"\n",
        "                    oallowfullscreen=\"true\" msallowfullscreen=\"true\"\n",
        "                    style=\"width:100%; height:500px; border: 1px solid #DDD\">\n",
        "            </iframe>\n",
        "        \n",
        "            <script>\n",
        "                $(\"#d4dacd34-46e8-43db-8249-5782121b9109\").bind('mousewheel', function(e) {\n",
        "                e.preventDefault();\n",
        "                });\n",
        "            </script>\n",
        "        "
       ],
       "metadata": {},
       "output_type": "pyout",
       "prompt_number": 11,
       "text": [
        "<IPython.core.display.HTML at 0x7ff08d6e96d0>"
       ]
      }
     ],
     "prompt_number": 11
    },
    {
     "cell_type": "code",
     "collapsed": false,
     "input": [],
     "language": "python",
     "metadata": {},
     "outputs": []
    }
   ],
   "metadata": {}
  }
 ]
}